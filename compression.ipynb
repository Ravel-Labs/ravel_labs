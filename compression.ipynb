{
 "cells": [
  {
   "cell_type": "code",
   "execution_count": 1,
   "metadata": {},
   "outputs": [],
   "source": [
    "import librosa\n",
    "import numpy as np\n",
    "from scipy.fftpack import fft\n",
    "from scipy.stats import rankdata\n",
    "import matplotlib.pyplot as plt\n",
    "import librosa.display\n",
    "import IPython.display as ipd\n",
    "%matplotlib inline"
   ]
  },
  {
   "cell_type": "code",
   "execution_count": 2,
   "metadata": {},
   "outputs": [],
   "source": [
    "signals = ['audio_data/bass.wav', 'audio_data/drums.wav', 'audio_data/other.wav', 'audio_data/vocals.wav']"
   ]
  },
  {
   "cell_type": "code",
   "execution_count": 3,
   "metadata": {},
   "outputs": [],
   "source": [
    "y, sr = librosa.load(signals[0], sr=44100)"
   ]
  },
  {
   "cell_type": "code",
   "execution_count": 4,
   "metadata": {},
   "outputs": [
    {
     "data": {
      "text/plain": [
       "(1942186,)"
      ]
     },
     "execution_count": 4,
     "metadata": {},
     "output_type": "execute_result"
    }
   ],
   "source": [
    "y.shape"
   ]
  },
  {
   "cell_type": "code",
   "execution_count": 34,
   "metadata": {},
   "outputs": [
    {
     "data": {
      "text/plain": [
       "(3794,)"
      ]
     },
     "execution_count": 34,
     "metadata": {},
     "output_type": "execute_result"
    }
   ],
   "source": [
    "a = np.mean(np.abs(librosa.core.stft(y, n_fft=1024, hop_length=512)), axis=0)\n",
    "a.shape"
   ]
  },
  {
   "cell_type": "code",
   "execution_count": 49,
   "metadata": {},
   "outputs": [],
   "source": [
    "def forget_factor(time_constant, sr): \n",
    "    '''\n",
    "    Alpha signifies the forget factor for parameter autonomation equations\n",
    "    '''\n",
    "    return np.exp(-1 / (time_constant * sr))\n",
    "\n",
    "def rms_squared(audio_signal, time_constant, sr):\n",
    "    alpha = forget_factor(time_constant, sr)\n",
    "    rms = librosa.feature.rms(audio_signal, frame_length=1024, hop_length=512)\n",
    "    rms_squared = np.zeros(rms.shape)\n",
    "    for i in range(1, rms.shape[1]):\n",
    "        rms_squared[0,i] = alpha * rms[0,i-1]**2 + (1-alpha)*np.absolute(audio_signal[i]**2)\n",
    "    return np.squeeze(rms_squared, axis=0)"
   ]
  },
  {
   "cell_type": "code",
   "execution_count": 58,
   "metadata": {},
   "outputs": [],
   "source": [
    "rms_sq = rms_squared(y, 200, sr)"
   ]
  },
  {
   "cell_type": "code",
   "execution_count": 50,
   "metadata": {},
   "outputs": [
    {
     "data": {
      "text/plain": [
       "0.09677552"
      ]
     },
     "execution_count": 50,
     "metadata": {},
     "output_type": "execute_result"
    }
   ],
   "source": [
    "librosa.feature.rms(y, frame_length=1024, hop_length=512).max()"
   ]
  },
  {
   "cell_type": "code",
   "execution_count": 8,
   "metadata": {},
   "outputs": [],
   "source": [
    "on = librosa.onset.onset_detect(y, sr)"
   ]
  },
  {
   "cell_type": "code",
   "execution_count": 11,
   "metadata": {},
   "outputs": [
    {
     "data": {
      "text/plain": [
       "(137,)"
      ]
     },
     "execution_count": 11,
     "metadata": {},
     "output_type": "execute_result"
    }
   ],
   "source": [
    "on.shape"
   ]
  },
  {
   "cell_type": "code",
   "execution_count": 10,
   "metadata": {},
   "outputs": [
    {
     "data": {
      "text/plain": [
       "(137,)"
      ]
     },
     "execution_count": 10,
     "metadata": {},
     "output_type": "execute_result"
    }
   ],
   "source": [
    "librosa.frames_to_time(on, sr=sr).shape"
   ]
  },
  {
   "cell_type": "code",
   "execution_count": null,
   "metadata": {},
   "outputs": [],
   "source": []
  },
  {
   "cell_type": "code",
   "execution_count": null,
   "metadata": {},
   "outputs": [],
   "source": []
  },
  {
   "cell_type": "code",
   "execution_count": 54,
   "metadata": {},
   "outputs": [],
   "source": [
    "def peak(audio_signal, time_constant, sr):\n",
    "    onset_env = librosa.onset.onset_strength(y=audio_signal, sr=sr)\n",
    "    x = np.mean(np.abs(librosa.core.stft(y, n_fft=1024, hop_length=512)), axis=0)\n",
    "    alpha = forget_factor(time_constant, sr)\n",
    "    peaks_squared = np.zeros(onset_env.shape)\n",
    "    for i in range(1, len(peaks)):\n",
    "        peak_factor = alpha * onset_env[i-1]**2 + (1 - alpha) * np.absolute(x[i]**2)\n",
    "        peaks_squared[i] = max(x[i]**2, peak_factor)\n",
    "    return peaks_squared"
   ]
  },
  {
   "cell_type": "code",
   "execution_count": 59,
   "metadata": {},
   "outputs": [],
   "source": [
    "peaks = peak(y, 200, sr)"
   ]
  },
  {
   "cell_type": "code",
   "execution_count": 90,
   "metadata": {},
   "outputs": [],
   "source": [
    "def crest_factor(rms, peaks): \n",
    "    crest_factor = np.zeros(rms.shape)\n",
    "    crest_factor[0] = 0\n",
    "    crest_factor[1:] = peaks[1:] / rms[1:]\n",
    "    return np.sqrt(crest_factor)"
   ]
  },
  {
   "cell_type": "code",
   "execution_count": 91,
   "metadata": {},
   "outputs": [],
   "source": [
    "c = crest_factor(rms_sq, peaks)"
   ]
  },
  {
   "cell_type": "code",
   "execution_count": 92,
   "metadata": {},
   "outputs": [
    {
     "data": {
      "text/plain": [
       "(0.0, 7265.276652077735)"
      ]
     },
     "execution_count": 92,
     "metadata": {},
     "output_type": "execute_result"
    }
   ],
   "source": [
    "c.min(), c.max()"
   ]
  },
  {
   "cell_type": "code",
   "execution_count": null,
   "metadata": {},
   "outputs": [],
   "source": []
  },
  {
   "cell_type": "code",
   "execution_count": null,
   "metadata": {},
   "outputs": [],
   "source": []
  },
  {
   "cell_type": "code",
   "execution_count": 16,
   "metadata": {},
   "outputs": [],
   "source": [
    "onset_env = librosa.onset.onset_strength(y=y, sr=sr)\n",
    "peaks = librosa.util.peak_pick(onset_env, 3, 3, 3, 5, 0.5, 10)"
   ]
  },
  {
   "cell_type": "code",
   "execution_count": 17,
   "metadata": {},
   "outputs": [
    {
     "data": {
      "text/plain": [
       "((3794,), (119,), (1942186,))"
      ]
     },
     "execution_count": 17,
     "metadata": {},
     "output_type": "execute_result"
    }
   ],
   "source": [
    "onset_env.shape, peaks.shape, y.shape"
   ]
  },
  {
   "cell_type": "code",
   "execution_count": 54,
   "metadata": {},
   "outputs": [
    {
     "data": {
      "text/plain": [
       "array([0.        , 0.        , 0.        , 0.3112303 , 0.12708595,\n",
       "       0.11057308, 0.11878169, 0.21374717, 0.07286657, 0.34539852,\n",
       "       1.2407556 , 0.4264236 , 0.6987854 , 0.29487702, 0.06401458,\n",
       "       0.09641525, 0.09450664, 0.09868456, 0.19187562, 0.16227448,\n",
       "       0.21471027, 0.65236485, 0.67280674, 0.3411281 , 1.3900677 ,\n",
       "       0.8845742 , 0.7931112 , 0.09421846, 0.13882941, 0.34839094,\n",
       "       0.15218246, 0.21057165, 0.22302027, 0.48494613, 3.8679395 ,\n",
       "       2.473797  , 0.10030654, 1.0575626 , 0.6013916 , 0.5892565 ,\n",
       "       0.2505203 , 0.06827833, 0.14719911, 0.16026837, 0.10090128,\n",
       "       0.13873114, 0.0743132 , 0.14091025, 0.14641246, 0.23194903,\n",
       "       2.5353937 , 2.6091757 , 0.54646707, 0.4353831 , 0.6103169 ,\n",
       "       0.50026417, 0.08913529, 0.81014276, 0.12816143, 0.17252366,\n",
       "       0.20587367, 0.18358293, 0.42461815, 0.09630018, 0.5010067 ,\n",
       "       0.1730793 , 0.1884503 , 0.28795668, 0.02362141, 0.51603144,\n",
       "       0.04251099, 0.60725224, 0.02587058, 0.09988533, 0.8320925 ,\n",
       "       0.6127794 , 0.6118616 , 0.01918992, 0.1099392 , 0.02620899,\n",
       "       0.02549006, 0.00607073, 0.01650355, 0.        , 0.10729383,\n",
       "       0.        , 1.3359195 , 2.9190116 , 0.14354171, 2.641436  ,\n",
       "       4.812694  , 0.69536674, 0.5603199 , 0.606415  , 0.17450373,\n",
       "       0.70317364, 0.03892908, 0.45443287, 0.07705867, 0.12669733],\n",
       "      dtype=float32)"
      ]
     },
     "execution_count": 54,
     "metadata": {},
     "output_type": "execute_result"
    }
   ],
   "source": [
    "onset_env[0:100]"
   ]
  },
  {
   "cell_type": "code",
   "execution_count": 81,
   "metadata": {},
   "outputs": [],
   "source": [
    "def half_wave_rectifier(x): return (x + np.absolute(x)) / 2\n",
    "\n",
    "def spectral_flux(fft_signal):\n",
    "    difference = np.zeros(fft_signal.shape)\n",
    "    difference[:, 1:] = np.diff(np.absolute(fft_signal), axis=1)\n",
    "    hwr = half_wave_rectifier(difference)\n",
    "    spectral_flux = hwr / np.absolute(fft_signal)\n",
    "    return np.sum(spectral_flux, axis=0)"
   ]
  },
  {
   "cell_type": "code",
   "execution_count": 65,
   "metadata": {},
   "outputs": [],
   "source": [
    "fft = librosa.core.stft(y, n_fft=1024, hop_length=512)"
   ]
  },
  {
   "cell_type": "code",
   "execution_count": 89,
   "metadata": {},
   "outputs": [
    {
     "data": {
      "text/plain": [
       "327.97626813599356"
      ]
     },
     "execution_count": 89,
     "metadata": {},
     "output_type": "execute_result"
    }
   ],
   "source": [
    "spectral_flux(fft).max()"
   ]
  },
  {
   "cell_type": "code",
   "execution_count": null,
   "metadata": {},
   "outputs": [],
   "source": []
  }
 ],
 "metadata": {
  "kernelspec": {
   "display_name": "Python 3",
   "language": "python",
   "name": "python3"
  },
  "language_info": {
   "codemirror_mode": {
    "name": "ipython",
    "version": 3
   },
   "file_extension": ".py",
   "mimetype": "text/x-python",
   "name": "python",
   "nbconvert_exporter": "python",
   "pygments_lexer": "ipython3",
   "version": "3.5.6"
  }
 },
 "nbformat": 4,
 "nbformat_minor": 4
}
