{
 "cells": [
  {
   "cell_type": "code",
   "execution_count": 18,
   "metadata": {},
   "outputs": [],
   "source": [
    "import os\n",
    "import numpy as np\n",
    "from preprocessing import *\n",
    "from equalization import *\n",
    "import matplotlib.pyplot as plt\n",
    "%matplotlib inline"
   ]
  },
  {
   "cell_type": "code",
   "execution_count": 3,
   "metadata": {},
   "outputs": [],
   "source": [
    "files = full_file_scraper('../Downloads/admiral_audio')"
   ]
  },
  {
   "cell_type": "code",
   "execution_count": 4,
   "metadata": {},
   "outputs": [
    {
     "data": {
      "text/plain": [
       "['../Downloads/admiral_audio/09_LeadVoxDouble2.wav',\n",
       " '../Downloads/admiral_audio/02_Kick2.wav',\n",
       " '../Downloads/admiral_audio/06_Sample.wav',\n",
       " '../Downloads/admiral_audio/07_LeadVox.wav',\n",
       " '../Downloads/admiral_audio/03_Snare.wav',\n",
       " '../Downloads/admiral_audio/10_Scream.wav',\n",
       " '../Downloads/admiral_audio/Readme.txt',\n",
       " '../Downloads/admiral_audio/05_Hat2.wav',\n",
       " '../Downloads/admiral_audio/04_Hat1.wav',\n",
       " '../Downloads/admiral_audio/01_Kick1.wav',\n",
       " '../Downloads/admiral_audio/08_LeadVoxDouble1.wav']"
      ]
     },
     "execution_count": 4,
     "metadata": {},
     "output_type": "execute_result"
    }
   ],
   "source": [
    "files"
   ]
  },
  {
   "cell_type": "code",
   "execution_count": 6,
   "metadata": {},
   "outputs": [],
   "source": [
    "lead_vox = files[3]"
   ]
  },
  {
   "cell_type": "code",
   "execution_count": 34,
   "metadata": {},
   "outputs": [],
   "source": [
    "kick = files[-2]"
   ]
  },
  {
   "cell_type": "code",
   "execution_count": 8,
   "metadata": {},
   "outputs": [],
   "source": [
    "# x, fs = librosa.load(lead_vox, sr=44100)\n",
    "x = Signal(lead_vox, n_fft=1024, window_size=1024, hop_length=1024)"
   ]
  },
  {
   "cell_type": "code",
   "execution_count": 35,
   "metadata": {},
   "outputs": [],
   "source": [
    "k = Signal(kick, n_fft=1024, window_size=1024, hop_length=1024)\n",
    "k.set_chunk(seconds=5)"
   ]
  },
  {
   "cell_type": "code",
   "execution_count": 11,
   "metadata": {},
   "outputs": [],
   "source": [
    "x.set_chunk(seconds=5)"
   ]
  },
  {
   "cell_type": "code",
   "execution_count": 13,
   "metadata": {},
   "outputs": [
    {
     "data": {
      "text/plain": [
       "(513, 28)"
      ]
     },
     "execution_count": 13,
     "metadata": {},
     "output_type": "execute_result"
    }
   ],
   "source": [
    "x.chunk_fft.shape"
   ]
  },
  {
   "cell_type": "code",
   "execution_count": 14,
   "metadata": {},
   "outputs": [
    {
     "data": {
      "text/plain": [
       "(513, 6000)"
      ]
     },
     "execution_count": 14,
     "metadata": {},
     "output_type": "execute_result"
    }
   ],
   "source": [
    "x.fft.shape"
   ]
  },
  {
   "cell_type": "code",
   "execution_count": 55,
   "metadata": {},
   "outputs": [],
   "source": [
    "X_avg = np.mean(x.fft, axis=1)"
   ]
  },
  {
   "cell_type": "code",
   "execution_count": 56,
   "metadata": {},
   "outputs": [],
   "source": [
    "K_avg = np.mean(k.fft, axis=1)"
   ]
  },
  {
   "cell_type": "code",
   "execution_count": 62,
   "metadata": {},
   "outputs": [],
   "source": [
    "freqs = np.array([i * x.sr / x.fft.shape[0] for i in range(x.fft.shape[0])])"
   ]
  },
  {
   "cell_type": "code",
   "execution_count": 57,
   "metadata": {},
   "outputs": [
    {
     "data": {
      "text/plain": [
       "[<matplotlib.lines.Line2D at 0x106b86978>]"
      ]
     },
     "execution_count": 57,
     "metadata": {},
     "output_type": "execute_result"
    },
    {
     "data": {
      "image/png": "[encoded data removed]",
      "text/plain": [
       "<Figure size 432x288 with 2 Axes>"
      ]
     },
     "metadata": {
      "needs_background": "light"
     },
     "output_type": "display_data"
    }
   ],
   "source": [
    "fig, axs = plt.subplots(2)\n",
    "axs[0].plot(freqs, X_avg)\n",
    "axs[1].plot(freqs, K_avg)"
   ]
  },
  {
   "cell_type": "code",
   "execution_count": 32,
   "metadata": {},
   "outputs": [
    {
     "data": {
      "text/plain": [
       "array([[16838.96484375, 14599.51171875, 12790.72265625, ...,\n",
       "        13910.44921875, 13738.18359375, 13565.91796875]])"
      ]
     },
     "execution_count": 32,
     "metadata": {},
     "output_type": "execute_result"
    }
   ],
   "source": [
    "librosa.feature.spectral_rolloff(x.signal, sr=x.sr, n_fft=x.n_fft, hop_length=x.hop_length, \n",
    "                         win_length=x.window_size, roll_percent=0.95)"
   ]
  },
  {
   "cell_type": "code",
   "execution_count": 53,
   "metadata": {},
   "outputs": [
    {
     "data": {
      "text/plain": [
       "array([  861.328125  ,   172.265625  ,    86.1328125 ,    86.1328125 ,\n",
       "          86.1328125 ,    86.1328125 ,    86.1328125 ,    86.1328125 ,\n",
       "          86.1328125 ,    86.1328125 ,    86.1328125 ,    43.06640625,\n",
       "          86.1328125 ,    43.06640625,    86.1328125 ,    86.1328125 ,\n",
       "          43.06640625,    86.1328125 ,    43.06640625,    86.1328125 ,\n",
       "          86.1328125 ,    86.1328125 ,   129.19921875, 14039.6484375 ,\n",
       "         215.33203125,   387.59765625,    43.06640625,    43.06640625,\n",
       "          43.06640625,  7278.22265625,     0.        ,     0.        ,\n",
       "           0.        ,     0.        ,     0.        ,     0.        ,\n",
       "           0.        ,     0.        ,     0.        ,     0.        ,\n",
       "           0.        ,     0.        ,     0.        ,     0.        ,\n",
       "           0.        ,     0.        ,     0.        ,     0.        ,\n",
       "           0.        ,     0.        ,     0.        ,     0.        ,\n",
       "           0.        ,     0.        ,     0.        ,   818.26171875,\n",
       "         129.19921875,    86.1328125 ,    86.1328125 ,    86.1328125 ,\n",
       "          86.1328125 ,    86.1328125 ,    86.1328125 ,    86.1328125 ,\n",
       "          86.1328125 ,    86.1328125 ,    43.06640625,    86.1328125 ,\n",
       "          43.06640625,   516.796875  ,   129.19921875,    86.1328125 ,\n",
       "          86.1328125 ,    86.1328125 ,    86.1328125 ,    86.1328125 ,\n",
       "          86.1328125 ,    86.1328125 ,    86.1328125 ,    86.1328125 ,\n",
       "          86.1328125 ,    43.06640625,    86.1328125 ,    86.1328125 ,\n",
       "          86.1328125 ,    86.1328125 ,    43.06640625,    86.1328125 ,\n",
       "          86.1328125 ,    86.1328125 ,   258.3984375 ,    86.1328125 ,\n",
       "          86.1328125 ,    86.1328125 ,    86.1328125 ,    86.1328125 ,\n",
       "          86.1328125 ,    86.1328125 ,    86.1328125 ,    86.1328125 ])"
      ]
     },
     "execution_count": 53,
     "metadata": {},
     "output_type": "execute_result"
    }
   ],
   "source": [
    "(librosa.feature.spectral_rolloff(k.signal, sr=x.sr, n_fft=x.n_fft, hop_length=x.hop_length, \n",
    "                         win_length=x.window_size, roll_percent=0.85))[0][0:100]"
   ]
  },
  {
   "cell_type": "code",
   "execution_count": 60,
   "metadata": {},
   "outputs": [],
   "source": [
    "bins = [0, 300, 1200, 2400, 5000, 10000, 20000]"
   ]
  },
  {
   "cell_type": "code",
   "execution_count": 85,
   "metadata": {},
   "outputs": [],
   "source": [
    "def compute_energy_percent(X_avg, freqs, bins):\n",
    "    total_energy = np.sum(X_avg)\n",
    "    energy_percents = []\n",
    "    for i in range(len(bins)-1):\n",
    "        arr = np.argwhere((freqs >= bins[i]) & (freqs < bins[i+1])).flatten()\n",
    "        bin_sum = np.sum([X_avg[i] for i in arr])\n",
    "        energy_percent = bin_sum / total_energy\n",
    "        energy_percents.append(energy_percent)\n",
    "    return np.array([energy_percents])"
   ]
  },
  {
   "cell_type": "code",
   "execution_count": 87,
   "metadata": {},
   "outputs": [
    {
     "data": {
      "text/plain": [
       "array([[0.9218981 , 0.06346282, 0.00739514, 0.00264051, 0.00216505,\n",
       "        0.00150348]], dtype=float32)"
      ]
     },
     "execution_count": 87,
     "metadata": {},
     "output_type": "execute_result"
    }
   ],
   "source": [
    "compute_energy_percent(K_avg, freqs, bins)"
   ]
  },
  {
   "cell_type": "code",
   "execution_count": null,
   "metadata": {},
   "outputs": [],
   "source": []
  }
 ],
 "metadata": {
  "kernelspec": {
   "display_name": "Python 3",
   "language": "python",
   "name": "python3"
  },
  "language_info": {
   "codemirror_mode": {
    "name": "ipython",
    "version": 3
   },
   "file_extension": ".py",
   "mimetype": "text/x-python",
   "name": "python",
   "nbconvert_exporter": "python",
   "pygments_lexer": "ipython3",
   "version": "3.5.6"
  }
 },
 "nbformat": 4,
 "nbformat_minor": 4
}
