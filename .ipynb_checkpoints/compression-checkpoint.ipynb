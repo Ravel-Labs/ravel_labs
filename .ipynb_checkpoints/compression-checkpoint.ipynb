{
 "cells": [
  {
   "cell_type": "code",
   "execution_count": 127,
   "metadata": {},
   "outputs": [
    {
     "name": "stdout",
     "output_type": "stream",
     "text": [
      "The autoreload extension is already loaded. To reload it, use:\n",
      "  %reload_ext autoreload\n"
     ]
    }
   ],
   "source": [
    "import librosa\n",
    "import numpy as np\n",
    "import scipy\n",
    "from scipy.fftpack import fft\n",
    "from scipy.stats import rankdata\n",
    "import matplotlib.pyplot as plt\n",
    "import librosa.display\n",
    "import IPython.display as ipd\n",
    "import pyloudnorm as pyln\n",
    "%matplotlib inline\n",
    "%load_ext autoreload\n",
    "%autoreload 2"
   ]
  },
  {
   "cell_type": "code",
   "execution_count": 4,
   "metadata": {},
   "outputs": [],
   "source": [
    "signals = ['audio_data/bass.wav', 'audio_data/drums.wav', 'audio_data/other.wav', 'audio_data/vocals.wav']"
   ]
  },
  {
   "cell_type": "code",
   "execution_count": 5,
   "metadata": {},
   "outputs": [],
   "source": [
    "y, sr = librosa.load(signals[0], sr=44100)"
   ]
  },
  {
   "cell_type": "code",
   "execution_count": 98,
   "metadata": {},
   "outputs": [],
   "source": [
    "y1, _ = librosa.load(signals[1], sr=44100)\n",
    "y2, _ = librosa.load(signals[2], sr=44100)\n",
    "y3, _ = librosa.load(signals[3], sr=44100)"
   ]
  },
  {
   "cell_type": "code",
   "execution_count": 6,
   "metadata": {},
   "outputs": [
    {
     "data": {
      "text/plain": [
       "(1942186,)"
      ]
     },
     "execution_count": 6,
     "metadata": {},
     "output_type": "execute_result"
    }
   ],
   "source": [
    "y.shape"
   ]
  },
  {
   "cell_type": "code",
   "execution_count": 5,
   "metadata": {},
   "outputs": [
    {
     "data": {
      "text/plain": [
       "(3794,)"
      ]
     },
     "execution_count": 5,
     "metadata": {},
     "output_type": "execute_result"
    }
   ],
   "source": [
    "a = np.mean(np.abs(librosa.core.stft(y, n_fft=1024, hop_length=512)), axis=0)\n",
    "a.shape"
   ]
  },
  {
   "cell_type": "code",
   "execution_count": 6,
   "metadata": {},
   "outputs": [
    {
     "data": {
      "text/plain": [
       "[<matplotlib.lines.Line2D at 0x124a94f60>]"
      ]
     },
     "execution_count": 6,
     "metadata": {},
     "output_type": "execute_result"
    },
    {
     "data": {
      "image/png": "[encoded data removed]",
      "text/plain": [
       "<Figure size 432x288 with 1 Axes>"
      ]
     },
     "metadata": {
      "needs_background": "light"
     },
     "output_type": "display_data"
    }
   ],
   "source": [
    "plt.figure()\n",
    "plt.plot(a)"
   ]
  },
  {
   "cell_type": "code",
   "execution_count": 108,
   "metadata": {},
   "outputs": [],
   "source": [
    "def forget_factor(time_constant, sr): \n",
    "    '''\n",
    "    Alpha signifies the forget factor for parameter autonomation equations\n",
    "    '''\n",
    "    return np.exp(-1 / (time_constant * sr))\n",
    "\n",
    "def rms_squared(audio_signal, time_constant, sr):\n",
    "    alpha = forget_factor(time_constant, sr)\n",
    "    rms = librosa.feature.rms(audio_signal, frame_length=1024, hop_length=512)\n",
    "    rms_squared = np.zeros(rms.shape)\n",
    "    for i in range(1, rms.shape[1]):\n",
    "        rms_squared[0,i] = alpha * rms[0,i-1]**2 + (1-alpha)*np.absolute(audio_signal[i]**2)\n",
    "    return np.squeeze(rms_squared, axis=0)"
   ]
  },
  {
   "cell_type": "code",
   "execution_count": 46,
   "metadata": {},
   "outputs": [],
   "source": [
    "rms_sq = rms_squared(y, 200, sr)"
   ]
  },
  {
   "cell_type": "code",
   "execution_count": 47,
   "metadata": {},
   "outputs": [
    {
     "data": {
      "text/plain": [
       "0.09677552"
      ]
     },
     "execution_count": 47,
     "metadata": {},
     "output_type": "execute_result"
    }
   ],
   "source": [
    "librosa.feature.rms(y, frame_length=1024, hop_length=512).max()"
   ]
  },
  {
   "cell_type": "code",
   "execution_count": 48,
   "metadata": {},
   "outputs": [],
   "source": [
    "on = librosa.onset.onset_strength(y, sr)"
   ]
  },
  {
   "cell_type": "code",
   "execution_count": 49,
   "metadata": {},
   "outputs": [
    {
     "data": {
      "text/plain": [
       "(3794,)"
      ]
     },
     "execution_count": 49,
     "metadata": {},
     "output_type": "execute_result"
    }
   ],
   "source": [
    "on.shape"
   ]
  },
  {
   "cell_type": "code",
   "execution_count": 12,
   "metadata": {},
   "outputs": [],
   "source": [
    "p = librosa.util.peak_pick(on, 3, 3, 3, 5, 0.5, 10)"
   ]
  },
  {
   "cell_type": "code",
   "execution_count": 25,
   "metadata": {},
   "outputs": [
    {
     "data": {
      "text/plain": [
       "array([0, 0, 0, ..., 0, 0, 0])"
      ]
     },
     "execution_count": 25,
     "metadata": {},
     "output_type": "execute_result"
    }
   ],
   "source": [
    "np.array([1 if i in p else 0 for i in range(on.shape[0])])"
   ]
  },
  {
   "cell_type": "code",
   "execution_count": null,
   "metadata": {},
   "outputs": [],
   "source": []
  },
  {
   "cell_type": "code",
   "execution_count": null,
   "metadata": {},
   "outputs": [],
   "source": []
  },
  {
   "cell_type": "code",
   "execution_count": 11,
   "metadata": {},
   "outputs": [
    {
     "data": {
      "text/plain": [
       "(137,)"
      ]
     },
     "execution_count": 11,
     "metadata": {},
     "output_type": "execute_result"
    }
   ],
   "source": [
    "librosa.frames_to_time(on, sr=sr).shape"
   ]
  },
  {
   "cell_type": "code",
   "execution_count": 76,
   "metadata": {},
   "outputs": [
    {
     "data": {
      "text/plain": [
       "0.002064093097432567"
      ]
     },
     "execution_count": 76,
     "metadata": {},
     "output_type": "execute_result"
    }
   ],
   "source": [
    "rms_sq.mean()"
   ]
  },
  {
   "cell_type": "code",
   "execution_count": null,
   "metadata": {},
   "outputs": [],
   "source": []
  },
  {
   "cell_type": "code",
   "execution_count": 107,
   "metadata": {},
   "outputs": [],
   "source": [
    "def peak(audio_signal, time_constant, sr):\n",
    "    onset_env = librosa.onset.onset_strength(y=audio_signal, sr=sr, n_fft=1024, hop_length=512, aggregate=np.median)\n",
    "    peaks = librosa.util.peak_pick(onset_env, 3, 3, 3, 5, 0.5, 10)\n",
    "    peak_bool = np.array([1 if i in peaks else 0 for i in range(onset_env.shape[0])])\n",
    "    peak_mat = onset_env * peak_bool\n",
    "    x = np.mean(np.abs(librosa.core.stft(y, n_fft=1024, hop_length=512)), axis=0)\n",
    "    alpha = forget_factor(time_constant, sr)\n",
    "    peaks_squared = np.zeros(peak_mat.shape)\n",
    "    for i in range(1, len(peaks_squared)):\n",
    "        peak_factor = alpha * peak_mat[i-1]**2 + (1 - alpha) * np.absolute(x[i])**2\n",
    "        peaks_squared[i] = max(x[i]**2, peak_factor)\n",
    "    return peaks_squared"
   ]
  },
  {
   "cell_type": "code",
   "execution_count": 51,
   "metadata": {},
   "outputs": [],
   "source": [
    "peaks = peak(y, 0.200, sr)"
   ]
  },
  {
   "cell_type": "code",
   "execution_count": 115,
   "metadata": {},
   "outputs": [],
   "source": [
    "def crest_factor(rms, peaks): \n",
    "    crest_factor = np.zeros(rms.shape)\n",
    "    crest_factor[0] = 0\n",
    "    crest_factor[1:] = peaks[1:] / rms[1:]\n",
    "    return np.sqrt(crest_factor)"
   ]
  },
  {
   "cell_type": "code",
   "execution_count": 53,
   "metadata": {},
   "outputs": [],
   "source": [
    "c = crest_factor(rms_sq, peaks)"
   ]
  },
  {
   "cell_type": "code",
   "execution_count": 54,
   "metadata": {},
   "outputs": [
    {
     "data": {
      "text/plain": [
       "(0.0, 675.988612508922)"
      ]
     },
     "execution_count": 54,
     "metadata": {},
     "output_type": "execute_result"
    }
   ],
   "source": [
    "c.min(), c.max()"
   ]
  },
  {
   "cell_type": "code",
   "execution_count": 55,
   "metadata": {},
   "outputs": [
    {
     "data": {
      "text/plain": [
       "(2377, 169.96027855462532, 1853, 3.3130264842445327e-07)"
      ]
     },
     "execution_count": 55,
     "metadata": {},
     "output_type": "execute_result"
    }
   ],
   "source": [
    "peaks.argmax(), peaks.max(), peaks[1:].argmin(), peaks[1853]"
   ]
  },
  {
   "cell_type": "code",
   "execution_count": 62,
   "metadata": {},
   "outputs": [],
   "source": [
    "def crest_attack_release(attack_max, release_max, crest_factor_sq):\n",
    "    attack = np.zeros(crest_factor_sq.shape)\n",
    "    release = np.zeros(crest_factor_sq.shape)\n",
    "    attack[1:] = (2 * attack_max) / crest_factor_sq[1:]**2\n",
    "    release[1:] = ((2 * release_max) / crest_factor_sq[1:]**2) - attack[1:]\n",
    "    return attack, release"
   ]
  },
  {
   "cell_type": "code",
   "execution_count": 63,
   "metadata": {},
   "outputs": [
    {
     "data": {
      "text/plain": [
       "(array([0.        , 0.20671053, 0.20621283, ..., 0.24503107, 0.26222313,\n",
       "        0.67021767]),\n",
       " array([0.        , 0.05167763, 0.05155321, ..., 0.06125777, 0.06555578,\n",
       "        0.16755442]))"
      ]
     },
     "execution_count": 63,
     "metadata": {},
     "output_type": "execute_result"
    }
   ],
   "source": [
    "crest_attack_release(0.80, 1, c)"
   ]
  },
  {
   "cell_type": "code",
   "execution_count": null,
   "metadata": {},
   "outputs": [],
   "source": []
  },
  {
   "cell_type": "code",
   "execution_count": 38,
   "metadata": {},
   "outputs": [
    {
     "data": {
      "text/plain": [
       "[<matplotlib.lines.Line2D at 0x128f4b5f8>]"
      ]
     },
     "execution_count": 38,
     "metadata": {},
     "output_type": "execute_result"
    },
    {
     "data": {
      "image/png": "[encoded data removed]",
      "text/plain": [
       "<Figure size 432x288 with 1 Axes>"
      ]
     },
     "metadata": {
      "needs_background": "light"
     },
     "output_type": "display_data"
    }
   ],
   "source": [
    "plt.figure()\n",
    "plt.plot(peaks)"
   ]
  },
  {
   "cell_type": "code",
   "execution_count": 57,
   "metadata": {},
   "outputs": [],
   "source": [
    "onset_env = librosa.onset.onset_strength(y=y, sr=sr, n_fft=1024, hop_length=512, aggregate=np.median)\n",
    "p = librosa.util.peak_pick(onset_env, 3, 3, 3, 5, 0.5, 10)"
   ]
  },
  {
   "cell_type": "code",
   "execution_count": 61,
   "metadata": {},
   "outputs": [
    {
     "data": {
      "text/plain": [
       "array([ 0.      ,  0.      ,  0.      ,  0.      ,  0.      ,  0.      ,\n",
       "        0.      ,  0.      ,  0.      ,  0.      ,  0.      ,  0.      ,\n",
       "        0.      ,  0.      ,  0.      ,  0.      ,  0.      ,  0.      ,\n",
       "        0.      ,  0.      ,  0.      ,  0.      ,  0.      ,  0.      ,\n",
       "        0.      ,  0.      ,  0.      ,  0.      ,  0.      ,  0.      ,\n",
       "        0.      ,  0.      ,  0.      ,  0.      ,  0.      ,  0.      ,\n",
       "        0.      ,  0.      ,  0.      ,  0.      ,  0.      ,  0.      ,\n",
       "        0.      ,  0.      ,  0.      ,  0.      ,  0.      ,  0.      ,\n",
       "        0.      ,  0.      ,  0.      , 13.037621,  0.      ,  0.      ,\n",
       "        0.      ,  0.      ,  0.      ,  0.      ,  0.      ,  0.      ,\n",
       "        0.      ,  0.      ,  0.      ,  0.      ,  0.      ],\n",
       "      dtype=float32)"
      ]
     },
     "execution_count": 61,
     "metadata": {},
     "output_type": "execute_result"
    }
   ],
   "source": [
    "onset_env[2325:2390]"
   ]
  },
  {
   "cell_type": "code",
   "execution_count": 69,
   "metadata": {},
   "outputs": [],
   "source": [
    "ons = librosa.onset.onset_strength(y=y, sr=sr, n_fft=1024, hop_length=512)"
   ]
  },
  {
   "cell_type": "code",
   "execution_count": 70,
   "metadata": {},
   "outputs": [
    {
     "data": {
      "text/plain": [
       "array([1.18384767e+00, 2.44097173e-01, 4.80411857e-01, 7.64335275e-01,\n",
       "       1.81653023e-01, 1.20921004e+00, 1.35508657e-01, 1.18660903e+00,\n",
       "       1.41386405e-01, 6.19157910e-01, 1.02241123e+00, 1.15724280e-01,\n",
       "       3.80348825e+00, 5.30989468e-02, 4.59503651e+00, 7.13034749e-01,\n",
       "       6.07882619e-01, 1.15724564e+00, 5.51866055e-01, 1.23581576e+00,\n",
       "       5.12612283e-01, 6.26107275e-01, 8.88851643e-01, 1.34213245e+00,\n",
       "       4.32649523e-01, 1.10923216e-01, 8.73771548e-01, 2.93326497e-01,\n",
       "       1.00267935e+00, 1.50066910e+01, 0.00000000e+00, 8.73993206e+00,\n",
       "       1.46551609e-01, 5.82648849e+00, 1.09232768e-01, 4.69556236e+00,\n",
       "       1.27461851e-02, 3.55714035e+00, 3.15983444e-01, 3.93574524e+00,\n",
       "       4.83056724e-01, 2.45738983e+00, 5.10407805e-01, 2.64263630e+00,\n",
       "       3.35215807e-01, 1.92694640e+00, 4.57406074e-01, 1.56894314e+00,\n",
       "       3.24334443e-01, 1.47897696e+00, 5.14304638e-01, 1.51622319e+00,\n",
       "       7.50860035e-01, 1.06821513e+00, 9.52562690e-01, 6.91160738e-01,\n",
       "       8.65130126e-01, 4.60605234e-01, 5.39654374e-01, 5.03339767e-01,\n",
       "       5.51653206e-01, 8.23715448e-01, 7.93432057e-01, 6.87165260e-01,\n",
       "       8.85419846e-01, 5.22460938e-01, 8.88429224e-01, 5.38405657e-01,\n",
       "       1.27090859e+00, 6.34180546e-01], dtype=float32)"
      ]
     },
     "execution_count": 70,
     "metadata": {},
     "output_type": "execute_result"
    }
   ],
   "source": [
    "ons[1650:1720]"
   ]
  },
  {
   "cell_type": "code",
   "execution_count": 47,
   "metadata": {},
   "outputs": [],
   "source": [
    "alpha = np.exp(-1 / (.200 * 44100))"
   ]
  },
  {
   "cell_type": "code",
   "execution_count": 48,
   "metadata": {},
   "outputs": [
    {
     "data": {
      "text/plain": [
       "110.23750070859"
      ]
     },
     "execution_count": 48,
     "metadata": {},
     "output_type": "execute_result"
    }
   ],
   "source": [
    "alpha * (10.50**2)"
   ]
  },
  {
   "cell_type": "code",
   "execution_count": 78,
   "metadata": {},
   "outputs": [
    {
     "data": {
      "text/plain": [
       "0.003518253527687734"
      ]
     },
     "execution_count": 78,
     "metadata": {},
     "output_type": "execute_result"
    }
   ],
   "source": [
    "(2*0.08)/ c.mean()"
   ]
  },
  {
   "cell_type": "code",
   "execution_count": 79,
   "metadata": {},
   "outputs": [
    {
     "data": {
      "text/plain": [
       "[<matplotlib.lines.Line2D at 0x11fba4dd8>]"
      ]
     },
     "execution_count": 79,
     "metadata": {},
     "output_type": "execute_result"
    },
    {
     "data": {
      "image/png": "[encoded data removed]",
      "text/plain": [
       "<Figure size 432x288 with 1 Axes>"
      ]
     },
     "metadata": {
      "needs_background": "light"
     },
     "output_type": "display_data"
    }
   ],
   "source": [
    "plt.figure()\n",
    "plt.plot(c)"
   ]
  },
  {
   "cell_type": "code",
   "execution_count": 17,
   "metadata": {},
   "outputs": [
    {
     "data": {
      "text/plain": [
       "((3794,), (119,), (1942186,))"
      ]
     },
     "execution_count": 17,
     "metadata": {},
     "output_type": "execute_result"
    }
   ],
   "source": [
    "onset_env.shape, peaks.shape, y.shape"
   ]
  },
  {
   "cell_type": "code",
   "execution_count": 54,
   "metadata": {},
   "outputs": [
    {
     "data": {
      "text/plain": [
       "array([0.        , 0.        , 0.        , 0.3112303 , 0.12708595,\n",
       "       0.11057308, 0.11878169, 0.21374717, 0.07286657, 0.34539852,\n",
       "       1.2407556 , 0.4264236 , 0.6987854 , 0.29487702, 0.06401458,\n",
       "       0.09641525, 0.09450664, 0.09868456, 0.19187562, 0.16227448,\n",
       "       0.21471027, 0.65236485, 0.67280674, 0.3411281 , 1.3900677 ,\n",
       "       0.8845742 , 0.7931112 , 0.09421846, 0.13882941, 0.34839094,\n",
       "       0.15218246, 0.21057165, 0.22302027, 0.48494613, 3.8679395 ,\n",
       "       2.473797  , 0.10030654, 1.0575626 , 0.6013916 , 0.5892565 ,\n",
       "       0.2505203 , 0.06827833, 0.14719911, 0.16026837, 0.10090128,\n",
       "       0.13873114, 0.0743132 , 0.14091025, 0.14641246, 0.23194903,\n",
       "       2.5353937 , 2.6091757 , 0.54646707, 0.4353831 , 0.6103169 ,\n",
       "       0.50026417, 0.08913529, 0.81014276, 0.12816143, 0.17252366,\n",
       "       0.20587367, 0.18358293, 0.42461815, 0.09630018, 0.5010067 ,\n",
       "       0.1730793 , 0.1884503 , 0.28795668, 0.02362141, 0.51603144,\n",
       "       0.04251099, 0.60725224, 0.02587058, 0.09988533, 0.8320925 ,\n",
       "       0.6127794 , 0.6118616 , 0.01918992, 0.1099392 , 0.02620899,\n",
       "       0.02549006, 0.00607073, 0.01650355, 0.        , 0.10729383,\n",
       "       0.        , 1.3359195 , 2.9190116 , 0.14354171, 2.641436  ,\n",
       "       4.812694  , 0.69536674, 0.5603199 , 0.606415  , 0.17450373,\n",
       "       0.70317364, 0.03892908, 0.45443287, 0.07705867, 0.12669733],\n",
       "      dtype=float32)"
      ]
     },
     "execution_count": 54,
     "metadata": {},
     "output_type": "execute_result"
    }
   ],
   "source": [
    "onset_env[0:100]"
   ]
  },
  {
   "cell_type": "code",
   "execution_count": 81,
   "metadata": {},
   "outputs": [],
   "source": [
    "def half_wave_rectifier(x): return (x + np.absolute(x)) / 2\n",
    "\n",
    "def spectral_flux(fft_signal):\n",
    "    difference = np.zeros(fft_signal.shape)\n",
    "    difference[:, 1:] = np.diff(np.absolute(fft_signal), axis=1)\n",
    "    hwr = half_wave_rectifier(difference)\n",
    "    spectral_flux = hwr / np.absolute(fft_signal)\n",
    "    return np.sum(spectral_flux, axis=0)"
   ]
  },
  {
   "cell_type": "code",
   "execution_count": 65,
   "metadata": {},
   "outputs": [],
   "source": [
    "fft = librosa.core.stft(y, n_fft=1024, hop_length=512)"
   ]
  },
  {
   "cell_type": "code",
   "execution_count": 89,
   "metadata": {},
   "outputs": [
    {
     "data": {
      "text/plain": [
       "327.97626813599356"
      ]
     },
     "execution_count": 89,
     "metadata": {},
     "output_type": "execute_result"
    }
   ],
   "source": [
    "spectral_flux(fft).max()"
   ]
  },
  {
   "cell_type": "code",
   "execution_count": 14,
   "metadata": {},
   "outputs": [],
   "source": [
    "def low_pass(signal, order, cutoff, sr):\n",
    "    nyq = sr * 0.5\n",
    "    normal_cutoff = cutoff / nyq\n",
    "    b,a = scipy.signal.butter(order, normal_cutoff)\n",
    "    y = scipy.signal.lfilter(b, a, signal)\n",
    "    return y"
   ]
  },
  {
   "cell_type": "code",
   "execution_count": 86,
   "metadata": {},
   "outputs": [],
   "source": [
    "y_filt = low_pass(y, 1, 1000, 44100)"
   ]
  },
  {
   "cell_type": "code",
   "execution_count": 83,
   "metadata": {},
   "outputs": [],
   "source": [
    "nyq = 44100 * 0.5\n",
    "normal_cutoff = 1000 / nyq\n",
    "b, a = scipy.signal.butter(1, normal_cutoff, btype='low')"
   ]
  },
  {
   "cell_type": "code",
   "execution_count": 84,
   "metadata": {},
   "outputs": [],
   "source": [
    "w, h = scipy.signal.freqz(b, a)"
   ]
  },
  {
   "cell_type": "code",
   "execution_count": 85,
   "metadata": {},
   "outputs": [
    {
     "data": {
      "text/plain": [
       "<matplotlib.lines.Line2D at 0x12e2f6240>"
      ]
     },
     "execution_count": 85,
     "metadata": {},
     "output_type": "execute_result"
    },
    {
     "data": {
      "image/png": "[encoded data removed]",
      "text/plain": [
       "<Figure size 432x288 with 1 Axes>"
      ]
     },
     "metadata": {
      "needs_background": "light"
     },
     "output_type": "display_data"
    }
   ],
   "source": [
    "plt.semilogx(0.5*44100*w, 20 * np.log10(abs(h)))\n",
    "plt.margins(0, 0.1)\n",
    "plt.grid(which='both', axis='both')\n",
    "plt.axvline(1000, color='green')"
   ]
  },
  {
   "cell_type": "code",
   "execution_count": 74,
   "metadata": {},
   "outputs": [
    {
     "data": {
      "text/plain": [
       "[<matplotlib.lines.Line2D at 0x12e1fa978>]"
      ]
     },
     "execution_count": 74,
     "metadata": {},
     "output_type": "execute_result"
    },
    {
     "data": {
      "image/png": "[encoded data removed]",
      "text/plain": [
       "<Figure size 432x288 with 1 Axes>"
      ]
     },
     "metadata": {
      "needs_background": "light"
     },
     "output_type": "display_data"
    }
   ],
   "source": [
    "plt.plot(0.5*44100*w, 20*np.log10(np.abs(h)), 'b')"
   ]
  },
  {
   "cell_type": "code",
   "execution_count": 18,
   "metadata": {},
   "outputs": [
    {
     "data": {
      "text/plain": [
       "[<matplotlib.lines.Line2D at 0x1243dc940>]"
      ]
     },
     "execution_count": 18,
     "metadata": {},
     "output_type": "execute_result"
    },
    {
     "data": {
      "image/png": "[encoded data removed]",
      "text/plain": [
       "<Figure size 432x288 with 1 Axes>"
      ]
     },
     "metadata": {
      "needs_background": "light"
     },
     "output_type": "display_data"
    }
   ],
   "source": [
    "plt.figure()\n",
    "plt.plot(y)"
   ]
  },
  {
   "cell_type": "code",
   "execution_count": null,
   "metadata": {},
   "outputs": [],
   "source": [
    "def lf_weighting(signal, signals, order, cutoff, sr):\n",
    "    lf_x = low_pass(signal, order, cutoff, sr)\n",
    "    x_low = np.abs(librosa.core.stft(lf_x, n_fft=1024, hop_length=512))\n",
    "    x = np.abs(librosa.core.stft(signal, n_fft=1024, hop_length=512))\n",
    "    lfe = np.sum(x_low / x)\n",
    "    \n",
    "    sum = 0\n",
    "    for sig in signals:\n",
    "        x_low = low_pass(sig, order, cutoff, sr)\n",
    "        fft_xlow = np.abs(librosa.core.stft(x_low, n_fft=1024, hop_length=512))\n",
    "        fft_x = np.abs(librosa.core.stft(sig, n_fft=1024, hop_length=512))\n",
    "        total = np.sum(fft_xlow / fft_x)\n",
    "        sum += total\n",
    "    lf_avg = sum / 4\n",
    "    return lfe / lf_avg  "
   ]
  },
  {
   "cell_type": "code",
   "execution_count": 89,
   "metadata": {},
   "outputs": [],
   "source": [
    "fft_low = np.abs(librosa.core.stft(y_filt, n_fft=1024, hop_length=512))\n",
    "fft = np.abs(librosa.core.stft(y, n_fft=1024, hop_length=512))"
   ]
  },
  {
   "cell_type": "code",
   "execution_count": 101,
   "metadata": {},
   "outputs": [],
   "source": [
    "top = np.sum((fft_low / fft))"
   ]
  },
  {
   "cell_type": "code",
   "execution_count": 102,
   "metadata": {},
   "outputs": [],
   "source": [
    "sum = 0\n",
    "for sig in [y, y1, y2, y3]:\n",
    "    low = low_pass(sig, 1, 1000, sr)\n",
    "    fft_l = np.abs(librosa.core.stft(low, n_fft=1024, hop_length=512))\n",
    "    fft_a = np.abs(librosa.core.stft(sig, n_fft=1024, hop_length=512))\n",
    "    total = np.sum(fft_l / fft_a)\n",
    "    sum += total\n",
    "avg = sum / 4"
   ]
  },
  {
   "cell_type": "code",
   "execution_count": 103,
   "metadata": {},
   "outputs": [
    {
     "data": {
      "text/plain": [
       "1.038979634173207"
      ]
     },
     "execution_count": 103,
     "metadata": {},
     "output_type": "execute_result"
    }
   ],
   "source": [
    "top / avg"
   ]
  },
  {
   "cell_type": "code",
   "execution_count": 122,
   "metadata": {},
   "outputs": [],
   "source": [
    "def wp(idx, signals, time_constant, sr, std):\n",
    "    x_peak = peak(signals[idx], time_constant, sr)\n",
    "    x_rms = rms_squared(signals[idx], time_constant, sr)\n",
    "    cf = np.mean(crest_factor(x_peak, x_rms))\n",
    "    \n",
    "    sum = 0\n",
    "    for sig in signals:\n",
    "        x_peak = peak(sig, time_constant, sr)\n",
    "        x_rms = rms_squared(sig, time_constant, sr)\n",
    "        cf = np.mean(crest_factor(x_peak, x_rms))\n",
    "        sum += cf\n",
    "    cf_avg = sum / len(signals)\n",
    "    gaussian = ((cf - cf_avg)**2) / (2*(std**2))\n",
    "    if cf <= cf_avg:\n",
    "        wp = np.exp(gaussian)\n",
    "    else:\n",
    "        wp = 2 - np.exp(gaussian)\n",
    "    return wp"
   ]
  },
  {
   "cell_type": "code",
   "execution_count": 123,
   "metadata": {},
   "outputs": [
    {
     "data": {
      "text/plain": [
       "0.9551161092678264"
      ]
     },
     "execution_count": 123,
     "metadata": {},
     "output_type": "execute_result"
    }
   ],
   "source": [
    "wp(0, [y, y1, y2, y3], 0.200, sr, 2)"
   ]
  },
  {
   "cell_type": "code",
   "execution_count": 124,
   "metadata": {},
   "outputs": [],
   "source": [
    "def ratio(wp, wf):return 0.54*wp + 0.764*wf + 1"
   ]
  },
  {
   "cell_type": "code",
   "execution_count": 125,
   "metadata": {},
   "outputs": [],
   "source": [
    "def threshold(rms, wp):return -11.03 + 0.44*rms - 4.897*wp"
   ]
  },
  {
   "cell_type": "code",
   "execution_count": 126,
   "metadata": {},
   "outputs": [],
   "source": [
    "def knee_width(threshold): return np.abs(threshold) / 2"
   ]
  },
  {
   "cell_type": "code",
   "execution_count": null,
   "metadata": {},
   "outputs": [],
   "source": [
    "def attack_n(attack_max, crest_factor_n2):\n",
    "    return 2*attack_max / crest_factor_n2\n",
    "\n",
    "def release_n(release_max, crest_factor_n2):\n",
    "    return 2*release_max / crest_factor_n2"
   ]
  },
  {
   "cell_type": "code",
   "execution_count": null,
   "metadata": {},
   "outputs": [],
   "source": [
    "def makeup_gain(x_in, x_out, rate):\n",
    "    meter = pyln.Meter(rate)\n",
    "    loudness_in = meter.integrated_loudness(x_in)\n",
    "    loudness_out = meter.integrated_loudness(x_out)\n",
    "    return loudness_in - loudness_out"
   ]
  }
 ],
 "metadata": {
  "kernelspec": {
   "display_name": "Python 3",
   "language": "python",
   "name": "python3"
  },
  "language_info": {
   "codemirror_mode": {
    "name": "ipython",
    "version": 3
   },
   "file_extension": ".py",
   "mimetype": "text/x-python",
   "name": "python",
   "nbconvert_exporter": "python",
   "pygments_lexer": "ipython3",
   "version": "3.5.6"
  }
 },
 "nbformat": 4,
 "nbformat_minor": 4
}
