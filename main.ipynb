{
 "cells": [
  {
   "cell_type": "code",
   "execution_count": 1,
   "metadata": {},
   "outputs": [],
   "source": [
    "import lib.preprocessing as pre"
   ]
  },
  {
   "cell_type": "code",
   "execution_count": 2,
   "metadata": {},
   "outputs": [],
   "source": [
    "import lib.effects as fx"
   ]
  },
  {
   "cell_type": "code",
   "execution_count": 3,
   "metadata": {},
   "outputs": [],
   "source": [
    "import librosa"
   ]
  },
  {
   "cell_type": "code",
   "execution_count": 4,
   "metadata": {},
   "outputs": [],
   "source": [
    "import IPython.display as ipd\n",
    "import matplotlib.pyplot as plt\n",
    "%matplotlib inline"
   ]
  },
  {
   "cell_type": "code",
   "execution_count": 5,
   "metadata": {},
   "outputs": [],
   "source": [
    "import numpy as np\n",
    "from scipy.io.wavfile import write"
   ]
  },
  {
   "cell_type": "code",
   "execution_count": 6,
   "metadata": {},
   "outputs": [],
   "source": [
    "path = '../Downloads/audio_data'"
   ]
  },
  {
   "cell_type": "code",
   "execution_count": 7,
   "metadata": {},
   "outputs": [],
   "source": [
    "files = pre.full_file_scraper(path)"
   ]
  },
  {
   "cell_type": "code",
   "execution_count": 8,
   "metadata": {},
   "outputs": [],
   "source": [
    "signals = [librosa.load(file, sr=44100)[0] for file in files]"
   ]
  },
  {
   "cell_type": "markdown",
   "metadata": {},
   "source": [
    "## Reverb"
   ]
  },
  {
   "cell_type": "code",
   "execution_count": 11,
   "metadata": {},
   "outputs": [],
   "source": [
    "rd = {\"n_fft\": 256, \"window_size\":256, \"hop_length\":256,\n",
    "      \"peak\": -12, \"audio_type\": \"vocal\", \"reverberance\": 75, \"hf_damping\": 0.0, \n",
    "      \"room_scale\": 10, \"wet_gain\": 0.0, \"effect_percent\": .4,\n",
    "     \"hp_freq\": 600, \"lp_freq\": 6000, \"order\": 2, \"stereo_depth\": 50, \n",
    "      \"pre_delay\": 10}"
   ]
  },
  {
   "cell_type": "code",
   "execution_count": 12,
   "metadata": {},
   "outputs": [],
   "source": [
    "r = fx.ReverbSignal(files[1], signals[1], rd[\"n_fft\"], rd[\"window_size\"], rd[\"hop_length\"],\n",
    "                 rd[\"peak\"], rd[\"audio_type\"], rd[\"reverberance\"], rd[\"hf_damping\"], rd[\"room_scale\"], rd[\"wet_gain\"], rd[\"effect_percent\"],\n",
    "                rd[\"hp_freq\"], rd[\"lp_freq\"], rd[\"order\"], rd[\"stereo_depth\"], rd[\"pre_delay\"])"
   ]
  },
  {
   "cell_type": "code",
   "execution_count": 42,
   "metadata": {},
   "outputs": [],
   "source": [
    "yr = r.reverb()"
   ]
  },
  {
   "cell_type": "markdown",
   "metadata": {},
   "source": [
    "## De-Esser"
   ]
  },
  {
   "cell_type": "code",
   "execution_count": 11,
   "metadata": {},
   "outputs": [],
   "source": [
    "critical_bands = [100, 200, 300, 400, 510, 630, 770, 920, 1080, 1270, 1480, 1720, 2000, 2320, \n",
    "                  2700, 3150, 3700, 4400, 5300, 6400, 7700, 9500, 12000, 15500]\n",
    "c = 0.08"
   ]
  },
  {
   "cell_type": "code",
   "execution_count": 12,
   "metadata": {},
   "outputs": [],
   "source": [
    "d_dict = {\"n_fft\": 256, \"window_size\":256, \"hop_length\":256,\n",
    "          \"peak\": -12, \"critical_bands\": critical_bands, \"c\": c, \n",
    "          \"sharp_thresh\":1.2, \"max_reduction\":.65}"
   ]
  },
  {
   "cell_type": "code",
   "execution_count": 11,
   "metadata": {},
   "outputs": [],
   "source": [
    "d = fx.DeEsserSignal(files[1], signals[1], d_dict[\"n_fft\"], d_dict[\"window_size\"], d_dict[\"hop_length\"],\n",
    "                    d_dict[\"peak\"], d_dict[\"critical_bands\"], d_dict[\"c\"], d_dict[\"sharp_thresh\"],\n",
    "                    d_dict[\"max_reduction\"])"
   ]
  },
  {
   "cell_type": "code",
   "execution_count": 12,
   "metadata": {},
   "outputs": [],
   "source": [
    "sh = d.compute_sharpness()"
   ]
  },
  {
   "cell_type": "code",
   "execution_count": 13,
   "metadata": {},
   "outputs": [
    {
     "data": {
      "text/plain": [
       "[<matplotlib.lines.Line2D at 0x1217a7400>]"
      ]
     },
     "execution_count": 13,
     "metadata": {},
     "output_type": "execute_result"
    },
    {
     "data": {
      "image/png": "[encoded data removed]",
      "text/plain": [
       "<Figure size 432x288 with 1 Axes>"
      ]
     },
     "metadata": {
      "needs_background": "light"
     },
     "output_type": "display_data"
    }
   ],
   "source": [
    "plt.plot(sh)"
   ]
  },
  {
   "cell_type": "code",
   "execution_count": 17,
   "metadata": {},
   "outputs": [
    {
     "data": {
      "text/plain": [
       "(129, 7587)"
      ]
     },
     "execution_count": 17,
     "metadata": {},
     "output_type": "execute_result"
    }
   ],
   "source": [
    "d.fft.shape"
   ]
  },
  {
   "cell_type": "code",
   "execution_count": 14,
   "metadata": {},
   "outputs": [],
   "source": [
    "gr = d.gain_reduction(sh)"
   ]
  },
  {
   "cell_type": "code",
   "execution_count": 15,
   "metadata": {},
   "outputs": [
    {
     "data": {
      "text/plain": [
       "(7587,)"
      ]
     },
     "execution_count": 15,
     "metadata": {},
     "output_type": "execute_result"
    }
   ],
   "source": [
    "sh.shape"
   ]
  },
  {
   "cell_type": "code",
   "execution_count": 15,
   "metadata": {},
   "outputs": [
    {
     "data": {
      "text/plain": [
       "[<matplotlib.lines.Line2D at 0x123829320>]"
      ]
     },
     "execution_count": 15,
     "metadata": {},
     "output_type": "execute_result"
    },
    {
     "data": {
      "image/png": "[encoded data removed]",
      "text/plain": [
       "<Figure size 432x288 with 1 Axes>"
      ]
     },
     "metadata": {
      "needs_background": "light"
     },
     "output_type": "display_data"
    }
   ],
   "source": [
    "plt.plot(gr)"
   ]
  },
  {
   "cell_type": "code",
   "execution_count": 15,
   "metadata": {},
   "outputs": [
    {
     "data": {
      "text/plain": [
       "1.0"
      ]
     },
     "execution_count": 15,
     "metadata": {},
     "output_type": "execute_result"
    }
   ],
   "source": [
    "gr[0]"
   ]
  },
  {
   "cell_type": "code",
   "execution_count": 16,
   "metadata": {},
   "outputs": [
    {
     "data": {
      "text/plain": [
       "(1942186,)"
      ]
     },
     "execution_count": 16,
     "metadata": {},
     "output_type": "execute_result"
    }
   ],
   "source": [
    "d.signal.shape"
   ]
  },
  {
   "cell_type": "code",
   "execution_count": 16,
   "metadata": {},
   "outputs": [
    {
     "data": {
      "text/plain": [
       "(1942186,)"
      ]
     },
     "execution_count": 16,
     "metadata": {},
     "output_type": "execute_result"
    }
   ],
   "source": [
    "librosa.samples_to_frames(d.signal, hop_length=d.hop_length, n_fft=d.n_fft).shape"
   ]
  },
  {
   "cell_type": "code",
   "execution_count": 16,
   "metadata": {},
   "outputs": [],
   "source": [
    "y = d.deesser(gr)"
   ]
  },
  {
   "cell_type": "code",
   "execution_count": 9,
   "metadata": {},
   "outputs": [],
   "source": [
    "sfp = '../Downloads/hiss.wav'\n",
    "sf = librosa.load(sfp, sr=44100)[0]"
   ]
  },
  {
   "cell_type": "code",
   "execution_count": 13,
   "metadata": {},
   "outputs": [],
   "source": [
    "s = fx.DeEsserSignal(sfp, sf, d_dict[\"n_fft\"], d_dict[\"window_size\"], d_dict[\"hop_length\"],\n",
    "                    d_dict[\"peak\"], d_dict[\"critical_bands\"], d_dict[\"c\"], d_dict[\"sharp_thresh\"],\n",
    "                    d_dict[\"max_reduction\"])"
   ]
  },
  {
   "cell_type": "code",
   "execution_count": 14,
   "metadata": {},
   "outputs": [],
   "source": [
    "sh = s.compute_sharpness()"
   ]
  },
  {
   "cell_type": "code",
   "execution_count": 16,
   "metadata": {},
   "outputs": [],
   "source": [
    "g = s.gain_reduction(sh)"
   ]
  },
  {
   "cell_type": "markdown",
   "metadata": {},
   "source": [
    "## Equalization"
   ]
  },
  {
   "cell_type": "code",
   "execution_count": 10,
   "metadata": {},
   "outputs": [],
   "source": [
    "bins = [0, 300, 1200, 2400, 5000, 10000, 20000]"
   ]
  },
  {
   "cell_type": "code",
   "execution_count": 11,
   "metadata": {},
   "outputs": [],
   "source": [
    "EQ_dict = {\"n_fft\": 1024, \"window_size\":1024, \"hop_length\":1024,\n",
    "          \"peak\": -12, \"bins\": bins, \"roll_percent\": 0.95, \"seconds\":10,\n",
    "          \"rank_threshold\":10, \"max_n\":3, \"min_overlap_ratio\": 0.1, \"max_eq\":3}"
   ]
  },
  {
   "cell_type": "code",
   "execution_count": 12,
   "metadata": {},
   "outputs": [],
   "source": [
    "f0 = fx.EQSignal(path=files[0], signal=signals[0], n_fft=EQ_dict[\"n_fft\"], \n",
    "                 window_size=EQ_dict[\"window_size\"], hop_length=EQ_dict[\"hop_length\"], \n",
    "                 peak=EQ_dict[\"peak\"], bins=EQ_dict[\"bins\"], \n",
    "                 roll_percent=EQ_dict[\"roll_percent\"], seconds=EQ_dict[\"seconds\"], \n",
    "                 rank_threshold=EQ_dict[\"rank_threshold\"], max_n=EQ_dict[\"max_n\"], \n",
    "                 min_overlap_ratio=EQ_dict[\"min_overlap_ratio\"], max_eq=EQ_dict[\"max_eq\"])"
   ]
  },
  {
   "cell_type": "code",
   "execution_count": 13,
   "metadata": {},
   "outputs": [
    {
     "data": {
      "text/plain": [
       "array([54.05466 , 54.038883, 54.097702, 54.080185, 54.066578],\n",
       "      dtype=float32)"
      ]
     },
     "execution_count": 13,
     "metadata": {},
     "output_type": "execute_result"
    }
   ],
   "source": [
    "f0.norm_fft_db[0][0:5]"
   ]
  },
  {
   "cell_type": "code",
   "execution_count": 13,
   "metadata": {},
   "outputs": [],
   "source": [
    "f1 = fx.EQSignal(path=files[1], signal=signals[1], n_fft=EQ_dict[\"n_fft\"], \n",
    "                 window_size=EQ_dict[\"window_size\"], hop_length=EQ_dict[\"hop_length\"], \n",
    "                 peak=EQ_dict[\"peak\"], bins=EQ_dict[\"bins\"], \n",
    "                 roll_percent=EQ_dict[\"roll_percent\"], seconds=EQ_dict[\"seconds\"], \n",
    "                 rank_threshold=EQ_dict[\"rank_threshold\"], max_n=EQ_dict[\"max_n\"], \n",
    "                 min_overlap_ratio=EQ_dict[\"min_overlap_ratio\"], max_eq=EQ_dict[\"max_eq\"])\n",
    "\n",
    "f2 = fx.EQSignal(path=files[2], signal=signals[2], n_fft=EQ_dict[\"n_fft\"], \n",
    "                 window_size=EQ_dict[\"window_size\"], hop_length=EQ_dict[\"hop_length\"], \n",
    "                 peak=EQ_dict[\"peak\"], bins=EQ_dict[\"bins\"], \n",
    "                 roll_percent=EQ_dict[\"roll_percent\"], seconds=EQ_dict[\"seconds\"], \n",
    "                 rank_threshold=EQ_dict[\"rank_threshold\"], max_n=EQ_dict[\"max_n\"], \n",
    "                 min_overlap_ratio=EQ_dict[\"min_overlap_ratio\"], max_eq=EQ_dict[\"max_eq\"])\n",
    "\n",
    "f3 = fx.EQSignal(path=files[3], signal=signals[3], n_fft=EQ_dict[\"n_fft\"], \n",
    "                 window_size=EQ_dict[\"window_size\"], hop_length=EQ_dict[\"hop_length\"], \n",
    "                 peak=EQ_dict[\"peak\"], bins=EQ_dict[\"bins\"], \n",
    "                 roll_percent=EQ_dict[\"roll_percent\"], seconds=EQ_dict[\"seconds\"], \n",
    "                 rank_threshold=EQ_dict[\"rank_threshold\"], max_n=EQ_dict[\"max_n\"], \n",
    "                 min_overlap_ratio=EQ_dict[\"min_overlap_ratio\"], max_eq=EQ_dict[\"max_eq\"])"
   ]
  },
  {
   "cell_type": "code",
   "execution_count": 14,
   "metadata": {},
   "outputs": [],
   "source": [
    "fx0 = f0.eq_params([f1, f2, f3])"
   ]
  },
  {
   "cell_type": "code",
   "execution_count": 17,
   "metadata": {},
   "outputs": [
    {
     "data": {
      "text/plain": [
       "[[16182.207824031366, 0.71, 2], [300, 0.71, 1]]"
      ]
     },
     "execution_count": 17,
     "metadata": {},
     "output_type": "execute_result"
    }
   ],
   "source": [
    "fx0"
   ]
  },
  {
   "cell_type": "code",
   "execution_count": 15,
   "metadata": {},
   "outputs": [],
   "source": [
    "x0 = f0.equalization(fx0, Q=2)"
   ]
  },
  {
   "cell_type": "markdown",
   "metadata": {},
   "source": [
    "## Compression"
   ]
  },
  {
   "cell_type": "code",
   "execution_count": 9,
   "metadata": {},
   "outputs": [],
   "source": [
    "cd = {\"n_fft\": 1024, \"window_size\":1024, \"hop_length\":1024,\n",
    "      \"peak\": -12, \"time_constant\": 0.200, \"order\": 1,\n",
    "      \"cutoff\": 1000, \"std\": 2, \"attack_max\": 0.08, \"release_max\": 1.0}"
   ]
  },
  {
   "cell_type": "code",
   "execution_count": 10,
   "metadata": {},
   "outputs": [],
   "source": [
    "Cs = [fx.CompressSignal(file, signal, cd[\"n_fft\"], cd[\"window_size\"], cd[\"hop_length\"],\n",
    "                    cd[\"peak\"], cd[\"time_constant\"], cd[\"order\"], cd[\"cutoff\"], cd[\"std\"],\n",
    "                    cd[\"attack_max\"], cd[\"release_max\"]) for file, signal in zip(files, signals)]"
   ]
  },
  {
   "cell_type": "code",
   "execution_count": 11,
   "metadata": {},
   "outputs": [],
   "source": [
    "cfs = [C.crest_factor for C in Cs]\n",
    "lfes = [C.lfe for C in Cs]"
   ]
  },
  {
   "cell_type": "code",
   "execution_count": 12,
   "metadata": {},
   "outputs": [],
   "source": [
    "sg = fx.SignalAggregator(44100, 4)"
   ]
  },
  {
   "cell_type": "code",
   "execution_count": 13,
   "metadata": {},
   "outputs": [],
   "source": [
    "lfa = sg.lfa(lfes)\n",
    "cfa = sg.cfa(cfs)"
   ]
  },
  {
   "cell_type": "code",
   "execution_count": 14,
   "metadata": {},
   "outputs": [],
   "source": [
    "params = Cs[0].comp_params(cfa, lfa)"
   ]
  },
  {
   "cell_type": "code",
   "execution_count": 15,
   "metadata": {},
   "outputs": [],
   "source": [
    "yc = Cs[0].compression(params)"
   ]
  },
  {
   "cell_type": "markdown",
   "metadata": {},
   "source": [
    "## Fader"
   ]
  },
  {
   "cell_type": "code",
   "execution_count": 7,
   "metadata": {},
   "outputs": [],
   "source": [
    "fd = {\"n_fft\": 1024, \"window_size\":1024, \"hop_length\":1024,\n",
    "      \"peak\": -12, \"decay\": 0.9, \"step\": 3, \"lead\": False, \"B\": 1}"
   ]
  },
  {
   "cell_type": "code",
   "execution_count": 8,
   "metadata": {},
   "outputs": [],
   "source": [
    "ld = {\"holdtime\": 0.05, \"ltrhold\": -30, \"utrhold\":-25, \"release\": 0.05,\n",
    "     \"attack\": 0.01}"
   ]
  },
  {
   "cell_type": "code",
   "execution_count": 9,
   "metadata": {},
   "outputs": [],
   "source": [
    "Fs = [fx.FaderSignal(file, signal, fd[\"n_fft\"], fd[\"window_size\"],\n",
    "                    fd[\"hop_length\"], fd[\"peak\"], fd[\"decay\"], fd[\"step\"],\n",
    "                     fd[\"lead\"], fd[\"B\"]) for file, signal in zip(files, signals)]"
   ]
  },
  {
   "cell_type": "code",
   "execution_count": 10,
   "metadata": {},
   "outputs": [
    {
     "data": {
      "text/plain": [
       "44100"
      ]
     },
     "execution_count": 10,
     "metadata": {},
     "output_type": "execute_result"
    }
   ],
   "source": [
    "Fs[0].sr"
   ]
  },
  {
   "cell_type": "code",
   "execution_count": 11,
   "metadata": {},
   "outputs": [
    {
     "data": {
      "text/plain": [
       "False"
      ]
     },
     "execution_count": 11,
     "metadata": {},
     "output_type": "execute_result"
    }
   ],
   "source": [
    "Fs[0].lead"
   ]
  },
  {
   "cell_type": "code",
   "execution_count": 10,
   "metadata": {},
   "outputs": [],
   "source": [
    "Ls = [F.full_loudness() for F in Fs]"
   ]
  },
  {
   "cell_type": "code",
   "execution_count": 11,
   "metadata": {},
   "outputs": [],
   "source": [
    "sg = fx.SignalAggregator(44100, 4)"
   ]
  },
  {
   "cell_type": "code",
   "execution_count": 12,
   "metadata": {},
   "outputs": [
    {
     "name": "stderr",
     "output_type": "stream",
     "text": [
      "/Users/garrettransom/ravel_labs/lib/effects.py:296: RuntimeWarning: divide by zero encountered in true_divide\n",
      "  L_av = np.where(gain_val > 0, L_c / gain_val, 0)\n"
     ]
    }
   ],
   "source": [
    "L_av = sg.loudness_avg(Ls, ld[\"holdtime\"], ld[\"ltrhold\"], ld[\"utrhold\"], ld[\"release\"], ld[\"attack\"])"
   ]
  },
  {
   "cell_type": "code",
   "execution_count": 14,
   "metadata": {},
   "outputs": [],
   "source": [
    "fo = Fs[0].compute_fader(L_av, Ls[0])"
   ]
  },
  {
   "cell_type": "code",
   "execution_count": 15,
   "metadata": {},
   "outputs": [],
   "source": [
    "y0 = Fs[0].fader(fo)"
   ]
  },
  {
   "cell_type": "code",
   "execution_count": 21,
   "metadata": {},
   "outputs": [],
   "source": [
    "y01 = Fs[0].signal * fo"
   ]
  },
  {
   "cell_type": "markdown",
   "metadata": {},
   "source": [
    "## Panning"
   ]
  },
  {
   "cell_type": "code",
   "execution_count": 9,
   "metadata": {},
   "outputs": [],
   "source": [
    "cutoffs = [35, 80, 187.5, 375, 750, 1500, 3000, 6000]"
   ]
  },
  {
   "cell_type": "code",
   "execution_count": 10,
   "metadata": {},
   "outputs": [],
   "source": [
    "pan_dict = {\"n_fft\": 1024, \"window_size\":1024, \"hop_length\":1024,\n",
    "          \"peak\": -12, \"cutoffs\": cutoffs, \"window\":0.1, \"order\":2,\n",
    "            \"btype\": \"low\"}"
   ]
  },
  {
   "cell_type": "code",
   "execution_count": 11,
   "metadata": {},
   "outputs": [],
   "source": [
    "p0 = fx.PanSignal(path=files[0], signal=signals[0], n_fft=pan_dict[\"n_fft\"], \n",
    "               window_size=pan_dict[\"window_size\"], hop_length=pan_dict[\"hop_length\"], \n",
    "               peak=pan_dict[\"peak\"], cutoffs=pan_dict[\"cutoffs\"], window=pan_dict[\"window\"],\n",
    "              order=pan_dict[\"order\"], btype=pan_dict[\"btype\"])"
   ]
  },
  {
   "cell_type": "code",
   "execution_count": 20,
   "metadata": {},
   "outputs": [
    {
     "data": {
      "text/plain": [
       "187.5"
      ]
     },
     "execution_count": 20,
     "metadata": {},
     "output_type": "execute_result"
    }
   ],
   "source": [
    "p0.lead_filter()"
   ]
  },
  {
   "cell_type": "code",
   "execution_count": 12,
   "metadata": {},
   "outputs": [],
   "source": [
    "p1 = fx.PanSignal(path=files[1], signal=signals[1], n_fft=pan_dict[\"n_fft\"], \n",
    "               window_size=pan_dict[\"window_size\"], hop_length=pan_dict[\"hop_length\"], \n",
    "               peak=pan_dict[\"peak\"], cutoffs=pan_dict[\"cutoffs\"], window=pan_dict[\"window\"],\n",
    "              order=pan_dict[\"order\"], btype=pan_dict[\"btype\"])\n",
    "p2 = fx.PanSignal(path=files[2], signal=signals[2], n_fft=pan_dict[\"n_fft\"], \n",
    "               window_size=pan_dict[\"window_size\"], hop_length=pan_dict[\"hop_length\"], \n",
    "               peak=pan_dict[\"peak\"], cutoffs=pan_dict[\"cutoffs\"], window=pan_dict[\"window\"],\n",
    "              order=pan_dict[\"order\"], btype=pan_dict[\"btype\"])\n",
    "p3 = fx.PanSignal(path=files[3], signal=signals[3], n_fft=pan_dict[\"n_fft\"], \n",
    "               window_size=pan_dict[\"window_size\"], hop_length=pan_dict[\"hop_length\"], \n",
    "               peak=pan_dict[\"peak\"], cutoffs=pan_dict[\"cutoffs\"], window=pan_dict[\"window\"],\n",
    "              order=pan_dict[\"order\"], btype=pan_dict[\"btype\"])"
   ]
  },
  {
   "cell_type": "code",
   "execution_count": 13,
   "metadata": {},
   "outputs": [],
   "source": [
    "signal_peaks = [x.lead_filter() for x in [p0, p1, p2, p3]]"
   ]
  },
  {
   "cell_type": "code",
   "execution_count": 16,
   "metadata": {},
   "outputs": [
    {
     "data": {
      "text/plain": [
       "[1500, 375, 80, 750]"
      ]
     },
     "execution_count": 16,
     "metadata": {},
     "output_type": "execute_result"
    }
   ],
   "source": [
    "signal_peaks"
   ]
  },
  {
   "cell_type": "code",
   "execution_count": 15,
   "metadata": {},
   "outputs": [],
   "source": [
    "import numpy as np"
   ]
  },
  {
   "cell_type": "code",
   "execution_count": 20,
   "metadata": {},
   "outputs": [],
   "source": [
    "K = np.unique(signal_peaks, return_inverse=True, return_counts=True)"
   ]
  },
  {
   "cell_type": "code",
   "execution_count": 28,
   "metadata": {},
   "outputs": [
    {
     "data": {
      "text/plain": [
       "1"
      ]
     },
     "execution_count": 28,
     "metadata": {},
     "output_type": "execute_result"
    }
   ],
   "source": [
    "K[2][0]"
   ]
  },
  {
   "cell_type": "code",
   "execution_count": 26,
   "metadata": {},
   "outputs": [
    {
     "data": {
      "text/plain": [
       "0"
      ]
     },
     "execution_count": 26,
     "metadata": {},
     "output_type": "execute_result"
    }
   ],
   "source": [
    "np.argwhere(K[1] == 3)[0][0]"
   ]
  },
  {
   "cell_type": "code",
   "execution_count": 35,
   "metadata": {},
   "outputs": [
    {
     "data": {
      "text/plain": [
       "[3]"
      ]
     },
     "execution_count": 35,
     "metadata": {},
     "output_type": "execute_result"
    }
   ],
   "source": [
    "list(np.argwhere(np.array(signal_peaks) == 750)[0])"
   ]
  },
  {
   "cell_type": "code",
   "execution_count": 14,
   "metadata": {},
   "outputs": [],
   "source": [
    "sg = fx.SignalAggregator(44100, 4)"
   ]
  },
  {
   "cell_type": "code",
   "execution_count": 15,
   "metadata": {},
   "outputs": [],
   "source": [
    "Ps = sg.panning_locations(cutoffs, signal_peaks)"
   ]
  },
  {
   "cell_type": "code",
   "execution_count": 19,
   "metadata": {},
   "outputs": [],
   "source": [
    "def panning_locations(self, filter_freqs, signal_peaks):\n",
    "    N_ks = np.unique(signal_peaks, return_inverse=True, return_counts=True)\n",
    "    num_k = N_ks[0].shape[0]\n",
    "    Ps = []\n",
    "    for k in np.arange(num_k):\n",
    "        freq = N_ks[0][k]\n",
    "        N_k = N_ks[2][k]\n",
    "        P = np.zeros((N_k))\n",
    "        for i in np.arange(N_k):\n",
    "            if N_k == 1:\n",
    "                P[i] = 1/2\n",
    "            elif N_k + i % 2 != 0:\n",
    "                P[i] = (N_k - i - 1) / (2 * (N_k - i))\n",
    "            elif (N_k + i % 2 == 0) and (N_k != 1):\n",
    "                P[i] = 1 - ((N_k - i) / (2 * (N_k -1)))\n",
    "            idx = np.argwhere(signal_peaks == freq)[i][0]\n",
    "            Ps.append([idx, P[i]])\n",
    "    return Ps"
   ]
  },
  {
   "cell_type": "code",
   "execution_count": 20,
   "metadata": {},
   "outputs": [
    {
     "name": "stdout",
     "output_type": "stream",
     "text": [
      "0\n",
      "2\n",
      "1\n",
      "3\n"
     ]
    },
    {
     "data": {
      "text/plain": [
       "[[0, 0.25], [2, 0.0], [1, 0.5], [3, 0.5]]"
      ]
     },
     "execution_count": 20,
     "metadata": {},
     "output_type": "execute_result"
    }
   ],
   "source": [
    "panning_locations(cutoffs, signal_peaks)"
   ]
  },
  {
   "cell_type": "code",
   "execution_count": 18,
   "metadata": {},
   "outputs": [
    {
     "data": {
      "text/plain": [
       "0.5"
      ]
     },
     "execution_count": 18,
     "metadata": {},
     "output_type": "execute_result"
    }
   ],
   "source": [
    "Ps[3][1]"
   ]
  },
  {
   "cell_type": "code",
   "execution_count": 16,
   "metadata": {},
   "outputs": [],
   "source": [
    "p0_fx = p0.pan(0.5)"
   ]
  },
  {
   "cell_type": "code",
   "execution_count": 17,
   "metadata": {},
   "outputs": [
    {
     "data": {
      "text/plain": [
       "array([[-2.1153262e-18, -3.4545898e-02],\n",
       "       [-1.9845198e-18, -3.2409668e-02],\n",
       "       [-8.5958490e-20, -1.4038086e-03],\n",
       "       ...,\n",
       "       [-3.1673834e-19, -5.1727295e-03],\n",
       "       [-1.2706907e-19, -2.0751953e-03],\n",
       "       [-5.3256892e-19, -8.6975098e-03]], dtype=float32)"
      ]
     },
     "execution_count": 17,
     "metadata": {},
     "output_type": "execute_result"
    }
   ],
   "source": [
    "p0_fx"
   ]
  },
  {
   "cell_type": "code",
   "execution_count": 18,
   "metadata": {},
   "outputs": [],
   "source": [
    "write(\"../pan_output.wav\", 44100, p0_fx)"
   ]
  }
 ],
 "metadata": {
  "kernelspec": {
   "display_name": "Python 3",
   "language": "python",
   "name": "python3"
  },
  "language_info": {
   "codemirror_mode": {
    "name": "ipython",
    "version": 3
   },
   "file_extension": ".py",
   "mimetype": "text/x-python",
   "name": "python",
   "nbconvert_exporter": "python",
   "pygments_lexer": "ipython3",
   "version": "3.5.6"
  }
 },
 "nbformat": 4,
 "nbformat_minor": 4
}
